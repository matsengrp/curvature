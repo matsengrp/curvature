{
 "metadata": {
  "name": "",
  "signature": "sha256:f46225d76767ba9fbf8e0bc4c9243c9b2a62e88b5de1d253f512e1ed4726afa6"
 },
 "nbformat": 3,
 "nbformat_minor": 0,
 "worksheets": [
  {
   "cells": [
    {
     "cell_type": "code",
     "collapsed": false,
     "input": [
      "from sage.all import *\n",
      "import pprint\n",
      "load(\"../gricci/code.py\")\n",
      "load(\"../gricci/nb-fun.py\")\n",
      "\n",
      "# io\n",
      "fp = './matrices/'\n",
      "fn = 'part4_mtx'\n",
      "\n",
      "# data structures\n",
      "sp = SetPartitions(4)\n",
      "mtx_labels = sp.list() \n",
      "mtx = matrix_of_csv(fp+fn)\n",
      "d = mtx_to_dict(mtx,mtx_labels)\n",
      "\n",
      "# Graph dictionary for (k,v):(SetPartition vertex, SetPartition[] edges)\n",
      "#pprint.pprint(d)\n",
      "\n",
      "print 'Vertex   : ' + str(sp.first()))\n",
      "print 'Adjacent : ', end='')\n",
      "print(d[sp.first()])\n",
      "\n",
      "# formatted Graph w/ offset vertex labels\n",
      "g = Graph(mtx_to_dict(mtx, [ '\\n\\n' + str(lbl) for lbl in mtx_labels ]))\n",
      "\n",
      "# plot\n",
      "p = g.plot(layout='circular',edge_color='lightgray',vertex_size=50)\n",
      "nb_show(p)\n"
     ],
     "language": "python",
     "metadata": {},
     "outputs": [
      {
       "ename": "SyntaxError",
       "evalue": "invalid syntax (<ipython-input-92-451114a3fadb>, line 20)",
       "output_type": "pyerr",
       "traceback": [
        "\u001b[0;36m  File \u001b[0;32m\"<ipython-input-92-451114a3fadb>\"\u001b[0;36m, line \u001b[0;32m20\u001b[0m\n\u001b[0;31m    print('Adjacent : ', end='')\u001b[0m\n\u001b[0m                            ^\u001b[0m\n\u001b[0;31mSyntaxError\u001b[0m\u001b[0;31m:\u001b[0m invalid syntax\n"
       ]
      }
     ],
     "prompt_number": 92
    },
    {
     "cell_type": "code",
     "collapsed": false,
     "input": [
      "print('hi',end='')\n"
     ],
     "language": "python",
     "metadata": {},
     "outputs": [
      {
       "ename": "SyntaxError",
       "evalue": "invalid syntax (<ipython-input-93-1191986f500f>, line 1)",
       "output_type": "pyerr",
       "traceback": [
        "\u001b[0;36m  File \u001b[0;32m\"<ipython-input-93-1191986f500f>\"\u001b[0;36m, line \u001b[0;32m1\u001b[0m\n\u001b[0;31m    print('hi',end='')\u001b[0m\n\u001b[0m                  ^\u001b[0m\n\u001b[0;31mSyntaxError\u001b[0m\u001b[0;31m:\u001b[0m invalid syntax\n"
       ]
      }
     ],
     "prompt_number": 93
    },
    {
     "cell_type": "code",
     "collapsed": false,
     "input": [],
     "language": "python",
     "metadata": {},
     "outputs": []
    }
   ],
   "metadata": {}
  }
 ]
}