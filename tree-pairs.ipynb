{
 "metadata": {
  "name": "",
  "signature": "sha256:d981cecf7c5dd5218bc5308c84a7781f7a408235243862cce7b702551ab988e6"
 },
 "nbformat": 3,
 "nbformat_minor": 0,
 "worksheets": [
  {
   "cells": [
    {
     "cell_type": "code",
     "collapsed": false,
     "input": [
      "from sage.all import *\n",
      "load(\"../gricci/code.py\")\n",
      "load(\"../gricci/nb-fun.py\")"
     ],
     "language": "python",
     "metadata": {},
     "outputs": [],
     "prompt_number": 1
    },
    {
     "cell_type": "code",
     "collapsed": false,
     "input": [
      "def _enumerate_rooted_trees(n_leaves, start_internal):\n",
      "    \"\"\"\n",
      "    Tree enumeration with internal nodes starting at some value.\n",
      "    \"\"\"\n",
      "    if n_leaves <= 0:\n",
      "        raise ArgumentError\n",
      "    if n_leaves == 1:\n",
      "        g = Graph()\n",
      "        g.add_vertices([0,1])\n",
      "        g.add_edge(0,1)\n",
      "        return [g]\n",
      "    else:\n",
      "        l = []\n",
      "        for g in _enumerate_rooted_trees(n_leaves-1, start_internal+1):\n",
      "            for (u,v,_) in g.edges():\n",
      "                h = g.copy()\n",
      "                h.delete_edge(u,v)\n",
      "                new_leaf = h.add_vertex()\n",
      "                h.add_vertex(start_internal) # We are adding one more internal node.\n",
      "                h.add_edges([(u,start_internal),\n",
      "                                (v,start_internal),\n",
      "                                (new_leaf,start_internal)])\n",
      "                l.append(h)\n",
      "        return l\n",
      "\n",
      "def enumerate_rooted_trees(n_leaves):\n",
      "    \"\"\"\n",
      "    Construct all the rooted (with leaf 0), bifurcating, leaf-labeled phylogenetic trees.\n",
      "    \"\"\"\n",
      "    return _enumerate_rooted_trees(n_leaves, n_leaves + 1)\n",
      "\n",
      "assert(len(enumerate_rooted_trees(4)) == 15)\n",
      "assert(len(enumerate_rooted_trees(5)) == 105)"
     ],
     "language": "python",
     "metadata": {},
     "outputs": [],
     "prompt_number": 2
    },
    {
     "cell_type": "code",
     "collapsed": false,
     "input": [
      "def tree_reduce(t, f_internal, f_leaf):\n",
      "    \"\"\"\n",
      "    Assume that t is rooted at 0 and recur down through the rest of the tree.\n",
      "    \"\"\"\n",
      "    # Imagine arrow pointing from src to dst. That is where the subtree starts.\n",
      "    def aux(src, dst): \n",
      "        n = t.neighbors(dst)\n",
      "        n.remove(src)\n",
      "        if n == []: # Leaf.\n",
      "            return f_leaf(dst)\n",
      "        else: # Internal node.\n",
      "            [left, right] = n\n",
      "            return f_internal(aux(dst,left), aux(dst,right))\n",
      "    [internal_root] = t.neighbors(0)\n",
      "    return aux(0,internal_root)\n",
      "\n",
      "def to_newick(t):\n",
      "    return tree_reduce(t, lambda a, b: '('+a+','+b+')', str)+\";\""
     ],
     "language": "python",
     "metadata": {},
     "outputs": [],
     "prompt_number": 3
    },
    {
     "cell_type": "code",
     "collapsed": false,
     "input": [
      "[to_newick(t) for t in enumerate_rooted_trees(3)]"
     ],
     "language": "python",
     "metadata": {},
     "outputs": [
      {
       "metadata": {},
       "output_type": "pyout",
       "prompt_number": 4,
       "text": [
        "['(3,(1,2));', '(2,(1,3));', '(1,(2,3));']"
       ]
      }
     ],
     "prompt_number": 4
    },
    {
     "cell_type": "code",
     "collapsed": false,
     "input": [
      "for i in [3,4,5,6,7]:\n",
      "    with open('trees_'+str(i)+'.tre','w') as f:\n",
      "        for t in enumerate_rooted_trees(i):\n",
      "            f.write(to_newick(t)+'\\n')"
     ],
     "language": "python",
     "metadata": {},
     "outputs": [],
     "prompt_number": 5
    },
    {
     "cell_type": "markdown",
     "metadata": {},
     "source": [
      "Fix whether we are talking about rooted or unrooted (labeled) bifurcating phylogenetic trees. Let $T_n$ be the set of trees on $n$ taxa. Let $S_n = T_n \\odot T_n$, the set of unordered pairs of $n$-taxon trees. The permutation group $\\Sigma_n$ acts on $T_n$ and $S_n$ by permuting leaf labels. Let $\\bar T_n$ and $\\bar S_n$ be the resulting sets of equivalence classes.\n",
      "\n",
      "We would like to find representatives and sizes of each equivalence class in $S_n$. This represents all of the SPR \"problems\": relabeling of both trees doesn't matter, and SPRs can easily be reversed to solve the \"backwards\" problem.\n",
      "\n",
      "SAGE doesn't count any sort of labeling in an isomorphism test, so we label the leaf edges with integers greater than the maximum degree of the tree (i.e. 3) and then multiple-ize the edges according to the count."
     ]
    },
    {
     "cell_type": "code",
     "collapsed": false,
     "input": [
      "magic = 4\n",
      "\n",
      "def leaf_edges(t):\n",
      "    \"\"\"\n",
      "    Find all the edges corresponding to leaves in t.\n",
      "    Here the \"edge to the root\" will count as a leaf.\n",
      "    \"\"\"\n",
      "    return [(u,v,l) for (u,v,l) in t.edges() if t.degree(u) == 1 or t.degree(v) == 1]\n",
      "\n",
      "\n",
      "def multiedge_leaf_edges(t):\n",
      "    \"\"\"\n",
      "    Make a tree such that graph isomorphism is equivalent to leaf-labeled isomorphism.\n",
      "    \"\"\"\n",
      "    m = t.copy()\n",
      "    m.allow_multiple_edges(True)\n",
      "    for (u,v,_) in leaf_edges(m):\n",
      "        for _ in range(min(u,v)+magic):\n",
      "            m.add_edge(u,v)\n",
      "    return m\n",
      "\n",
      "def llt_is_isomorphic(t1,t2):\n",
      "    \"\"\"\n",
      "    Return if leaf-labeled trees are isomorphic. Integer labels must be greater than the degree of the tree.\n",
      "    \"\"\"\n",
      "    return multiedge_leaf_edges(t1).is_isomorphic(multiedge_leaf_edges(t2))\n",
      "\n",
      "def llt_isomorphism_matrix(l):\n",
      "    n = len(l)\n",
      "    return matrix(n,n, lambda i,j: int(llt_is_isomorphic(l[i],l[j])))"
     ],
     "language": "python",
     "metadata": {},
     "outputs": [],
     "prompt_number": 19
    },
    {
     "cell_type": "code",
     "collapsed": false,
     "input": [
      "l = enumerate_rooted_trees(5)\n",
      "assert(llt_isomorphism_matrix(l) == matrix.identity(len(l)))"
     ],
     "language": "python",
     "metadata": {},
     "outputs": [],
     "prompt_number": 20
    },
    {
     "cell_type": "code",
     "collapsed": false,
     "input": [],
     "language": "python",
     "metadata": {},
     "outputs": []
    }
   ],
   "metadata": {}
  }
 ]
}