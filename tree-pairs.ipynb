{
 "metadata": {
  "name": "",
  "signature": "sha256:a217179ad1897184b6755b7c46a5a9ea490eabe8a5ff10b11c45ee319f869074"
 },
 "nbformat": 3,
 "nbformat_minor": 0,
 "worksheets": [
  {
   "cells": [
    {
     "cell_type": "code",
     "collapsed": false,
     "input": [
      "from sage.all import *\n",
      "load(\"../gricci/code.py\")\n",
      "load(\"../gricci/nb-fun.py\")\n",
      "load(\"tree-fun.py\")"
     ],
     "language": "python",
     "metadata": {},
     "outputs": [],
     "prompt_number": 1
    },
    {
     "cell_type": "code",
     "collapsed": false,
     "input": [
      "[to_newick(t) for t in enumerate_rooted_trees(3)]"
     ],
     "language": "python",
     "metadata": {},
     "outputs": [
      {
       "metadata": {},
       "output_type": "pyout",
       "prompt_number": 2,
       "text": [
        "['(3,(1,2));', '(2,(1,3));', '(1,(2,3));']"
       ]
      }
     ],
     "prompt_number": 2
    },
    {
     "cell_type": "code",
     "collapsed": false,
     "input": [],
     "language": "python",
     "metadata": {},
     "outputs": [],
     "prompt_number": 5
    },
    {
     "cell_type": "markdown",
     "metadata": {},
     "source": [
      "Fix whether we are talking about rooted or unrooted (labeled) bifurcating phylogenetic trees. Let $T_n$ be the set of trees on $n$ taxa. Let $S_n = T_n \\odot T_n$, the set of unordered pairs of $n$-taxon trees. The permutation group $\\Sigma_n$ acts on $T_n$ and $S_n$ by permuting leaf labels. Let $\\bar T_n$ and $\\bar S_n$ be the resulting sets of equivalence classes.\n",
      "\n",
      "We would like to find representatives and sizes of each equivalence class in $S_n$. This represents all of the SPR \"problems\": relabeling of both trees doesn't matter, and SPRs can easily be reversed to solve the \"backwards\" problem.\n",
      "\n",
      "SAGE doesn't count any sort of labeling in an isomorphism test, so we label the leaf edges with integers greater than the maximum degree of the tree (i.e. 3) and then multiple-ize the edges according to the count."
     ]
    },
    {
     "cell_type": "code",
     "collapsed": false,
     "input": [
      "magic = 4\n",
      "\n",
      "def leaf_edges(t):\n",
      "    \"\"\"\n",
      "    Find all the edges corresponding to leaves in t.\n",
      "    Here the \"edge to the root\" will count as a leaf.\n",
      "    \"\"\"\n",
      "    return [(u,v,l) for (u,v,l) in t.edges() if t.degree(u) == 1 or t.degree(v) == 1]\n",
      "\n",
      "\n",
      "def multiedge_leaf_edges(t):\n",
      "    \"\"\"\n",
      "    Make a tree such that graph isomorphism is equivalent to leaf-labeled isomorphism.\n",
      "    \"\"\"\n",
      "    m = t.copy()\n",
      "    m.allow_multiple_edges(True)\n",
      "    for (u,v,_) in leaf_edges(m):\n",
      "        for _ in range(min(u,v)+magic):\n",
      "            m.add_edge(u,v)\n",
      "    return m\n",
      "\n",
      "def llt_is_isomorphic(t1,t2):\n",
      "    \"\"\"\n",
      "    Return if leaf-labeled trees are isomorphic. Integer labels must be greater than the degree of the tree.\n",
      "    \"\"\"\n",
      "    return multiedge_leaf_edges(t1).is_isomorphic(multiedge_leaf_edges(t2))\n",
      "\n",
      "def llt_isomorphism_matrix(l):\n",
      "    n = len(l)\n",
      "    return matrix(n,n, lambda i,j: int(llt_is_isomorphic(l[i],l[j])))"
     ],
     "language": "python",
     "metadata": {},
     "outputs": [],
     "prompt_number": 19
    },
    {
     "cell_type": "code",
     "collapsed": false,
     "input": [
      "l = enumerate_rooted_trees(5)\n",
      "assert(llt_isomorphism_matrix(l) == matrix.identity(len(l)))"
     ],
     "language": "python",
     "metadata": {},
     "outputs": [],
     "prompt_number": 20
    },
    {
     "cell_type": "code",
     "collapsed": false,
     "input": [],
     "language": "python",
     "metadata": {},
     "outputs": []
    }
   ],
   "metadata": {}
  }
 ]
}