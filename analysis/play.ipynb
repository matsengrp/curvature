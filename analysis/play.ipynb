{
 "metadata": {
  "name": ""
 },
 "nbformat": 3,
 "nbformat_minor": 0,
 "worksheets": [
  {
   "cells": [
    {
     "cell_type": "code",
     "collapsed": false,
     "input": [
      "import argparse\n",
      "import gzip\n",
      "import matplotlib as mpl\n",
      "import matplotlib.pyplot as plt\n",
      "import numpy as np\n",
      "import os\n",
      "import pandas as pd\n",
      "import pickle\n",
      "import seaborn as sns\n",
      "\n",
      "%pylab inline"
     ],
     "language": "python",
     "metadata": {},
     "outputs": []
    },
    {
     "cell_type": "code",
     "collapsed": false,
     "input": [
      "n_taxa = 5\n",
      "dir_base = \"5-walks-200K/rspr/\"\n",
      "p_access     = dir_base + \"access{}.tsv.gz\".format(n_taxa)\n",
      "p_tangles     = dir_base + \"tangle{}.idx\".format(n_taxa)\n",
      "p_degrees    = dir_base + \"degrees{}.tsv\".format(n_taxa)\n",
      "p_curvatures = dir_base + \"upmh/ricci{}.tsv\".format(n_taxa)\n",
      "\n",
      "access = pd.read_table(gzip.open(p_access),\n",
      "                        names=['tangle', 'time', 'count'], header=False)\n",
      "tangle = pd.read_table(p_tangles,\n",
      "                       names=['t1_idx', 't2_idx', 't1_nwk', 't2_nwk', 'coset'])\n",
      "degrees = pd.read_table(p_degrees,\n",
      "                       names=['t1_deg', 't2_deg'])\n",
      "curvatures = pd.read_table(p_curvatures,\n",
      "                       names=['dist', 'kappa_str', 'kappa'])\n",
      "\n",
      "catted = pd.concat([tangle, degrees, curvatures], axis=1)\n",
      "catted['mean_access'] = \\\n",
      "    pd.Series(sum(adf['time']*adf['count']) / sum(adf['count'])\n",
      "              for (tangle_num, adf) in access.groupby('tangle'))\n",
      "catted['tangle'] = catted.index\n",
      "\n",
      "early = pd.merge(catted, access[access['time'] < 3])"
     ],
     "language": "python",
     "metadata": {},
     "outputs": []
    },
    {
     "cell_type": "code",
     "collapsed": false,
     "input": [
      "cols = early.keys().drop(['coset','t1_deg','t2_deg', 't1_idx', 't2_idx'])\n",
      "early.query('time == 0 & count > 0 & dist > 0 & t1_deg == 24 & t2_deg == 24').sort('count')[cols]"
     ],
     "language": "python",
     "metadata": {},
     "outputs": []
    },
    {
     "cell_type": "code",
     "collapsed": false,
     "input": [],
     "language": "python",
     "metadata": {},
     "outputs": []
    }
   ],
   "metadata": {}
  }
 ]
}